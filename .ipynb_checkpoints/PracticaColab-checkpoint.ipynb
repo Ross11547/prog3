{
 "cells": [
  {
   "cell_type": "markdown",
   "metadata": {
    "id": "KI2vcU1iHYkW"
   },
   "source": [
    "#JUEGO ADIVINANZA"
   ]
  },
  {
   "cell_type": "code",
   "execution_count": 6,
   "metadata": {
    "colab": {
     "base_uri": "https://localhost:8080/"
    },
    "id": "qUr7FSvOHYM8",
    "outputId": "c3983056-8aba-4fa5-9951-cb8914104aa4"
   },
   "outputs": [
    {
     "name": "stdout",
     "output_type": "stream",
     "text": [
      "========================================\n",
      "Bienvenido al Juego de Adinanza\n",
      "========================================\n",
      "Digite un número: 77\n",
      "Digitaste... 77\n",
      "Felicitaciones!!!... Adivinaste el número\n",
      "Fin del juego.\n"
     ]
    }
   ],
   "source": [
    "print(\"========================================\")\n",
    "print(\"Bienvenido al Juego de Adinanza\")\n",
    "print(\"========================================\")\n",
    "\n",
    "numero_secreto = 77\n",
    "\n",
    "entrada = int(input(\"Digite un número: \")) #primera forma\n",
    "#entrada = int(entrada) y dejamos el input como estaba son el int segunda forma\n",
    "\n",
    "print(\"Digitaste...\", entrada)\n",
    "\n",
    "if(entrada == numero_secreto):\n",
    "  print(\"Felicitaciones!!!... Adivinaste el número\")\n",
    "else:\n",
    "  print(\"Losiento... No lograste adivinar el número\")\n",
    "\n",
    "print('Fin del juego.')"
   ]
  },
  {
   "cell_type": "code",
   "execution_count": 7,
   "metadata": {
    "colab": {
     "base_uri": "https://localhost:8080/"
    },
    "id": "itS68dYaJfas",
    "outputId": "41f0b4d2-6fbc-4b80-8144-5a31bedca4e0"
   },
   "outputs": [
    {
     "data": {
      "text/plain": [
       "int"
      ]
     },
     "execution_count": 7,
     "metadata": {},
     "output_type": "execute_result"
    }
   ],
   "source": [
    "type(numero_secreto)"
   ]
  },
  {
   "cell_type": "code",
   "execution_count": 8,
   "metadata": {
    "colab": {
     "base_uri": "https://localhost:8080/"
    },
    "id": "uosYOp7OJiSE",
    "outputId": "ee13111f-294e-4086-d02d-098320a8ab0a"
   },
   "outputs": [
    {
     "data": {
      "text/plain": [
       "int"
      ]
     },
     "execution_count": 8,
     "metadata": {},
     "output_type": "execute_result"
    }
   ],
   "source": [
    "type(entrada)"
   ]
  },
  {
   "cell_type": "markdown",
   "metadata": {
    "id": "pr-E6FTgLHjU"
   },
   "source": [
    "#GUIAR AL USUARIO SI EL NÚMERO INGRESADO FUE MAYOR O MENOR AL NÚMERO QUE SE TIENE QUE ADIVINAR"
   ]
  },
  {
   "cell_type": "code",
   "execution_count": null,
   "metadata": {
    "id": "H5r8wxy9LQS5"
   },
   "outputs": [],
   "source": [
    "print(\"========================================\")\n",
    "print(\"Bienvenido al Juego de Adinanza\")\n",
    "print(\"========================================\")\n",
    "\n",
    "numero_secreto = 77\n",
    "\n",
    "entrada = input(\"Digite un número: \")\n",
    "entrada = int(entrada)\n",
    "print(\"Digitaste...\", entrada)\n",
    "\n",
    "acertaste = entrada == numero_secreto #iguales\n",
    "mayor = entrada > numero_secreto #entrada es MAYOR\n",
    "menor = entrada > numero_secreto #entrada es MENOR\n",
    "\n",
    "if(acertaste):\n",
    "  print('Felicitaciones!!... Adivinaste el número')\n",
    "elif(mayor):\n",
    "  print('Losiento... El número que ingrasaste es mayor que el número secreto')\n",
    "else:\n",
    "  print('Los siento... El número que ingresaste es menor que el número secreto')"
   ]
  },
  {
   "cell_type": "markdown",
   "metadata": {
    "id": "JwoxqCvjPM3Y"
   },
   "source": [
    "#IMPLEMENTAR ITERACIONES"
   ]
  },
  {
   "cell_type": "code",
   "execution_count": 11,
   "metadata": {
    "colab": {
     "base_uri": "https://localhost:8080/"
    },
    "id": "uC20BwUvPXE6",
    "outputId": "bf5158f5-fe43-41be-d234-7aa4f1b66335"
   },
   "outputs": [
    {
     "name": "stdout",
     "output_type": "stream",
     "text": [
      "========================================\n",
      "Bienvenido al Juego de Adinanza\n",
      "========================================\n",
      "Intento  1 de  3\n",
      "Digite un número: 50\n",
      "Digitaste... 50\n",
      "Los siento... El número que ingresaste es menor que el número secreto\n",
      "Intento  2 de  3\n",
      "Digite un número: 60\n",
      "Digitaste... 60\n",
      "Los siento... El número que ingresaste es menor que el número secreto\n",
      "Intento  3 de  3\n",
      "Digite un número: 77\n",
      "Digitaste... 77\n",
      "Felicitaciones!!... Adivinaste el número\n",
      "Fin del juego\n"
     ]
    }
   ],
   "source": [
    "print(\"========================================\")\n",
    "print(\"Bienvenido al Juego de Adinanza\")\n",
    "print(\"========================================\")\n",
    "\n",
    "numero_secreto = 77\n",
    "total_intentos = 3\n",
    "iteracion = 1\n",
    "\n",
    "while(iteracion <= total_intentos):\n",
    "  print('Intento ', iteracion, 'de ', total_intentos)\n",
    "  entrada = input(\"Digite un número: \")\n",
    "  entrada = int(entrada)\n",
    "  print(\"Digitaste...\", entrada)\n",
    "\n",
    "  acertaste = entrada == numero_secreto #iguales\n",
    "  mayor = entrada > numero_secreto #entrada es MAYOR\n",
    "  menor = entrada > numero_secreto #entrada es MENOR\n",
    "\n",
    "  if(acertaste):\n",
    "    print('Felicitaciones!!... Adivinaste el número')\n",
    "  elif(mayor):\n",
    "    print('Losiento... El número que ingrasaste es mayor que el número secreto')\n",
    "  else:\n",
    "    print('Los siento... El número que ingresaste es menor que el número secreto')\n",
    "\n",
    "  iteracion = iteracion+1\n",
    "\n",
    "print('Fin del juego')"
   ]
  },
  {
   "cell_type": "markdown",
   "metadata": {
    "id": "1e_RxhYuSdAW"
   },
   "source": [
    "#MEJORANDO AÚN EL CÓDIGO... FORMATEANDO LOS STRINGS\n"
   ]
  },
  {
   "cell_type": "code",
   "execution_count": 12,
   "metadata": {
    "colab": {
     "base_uri": "https://localhost:8080/"
    },
    "id": "AN9wtu1uSjp0",
    "outputId": "711667f0-5eb4-42cc-c194-1533c2c514cf"
   },
   "outputs": [
    {
     "name": "stdout",
     "output_type": "stream",
     "text": [
      "========================================\n",
      "Bienvenido al Juego de Adinanza\n",
      "========================================\n",
      "Intento: 1 de 3\n",
      "Digite un número: 75\n",
      "Digitaste... 75\n",
      "Los siento... El número que ingresaste es menor que el número secreto\n",
      "Intento: 2 de 3\n",
      "Digite un número: 56\n",
      "Digitaste... 56\n",
      "Los siento... El número que ingresaste es menor que el número secreto\n",
      "Intento: 3 de 3\n",
      "Digite un número: 77\n",
      "Digitaste... 77\n",
      "Felicitaciones!!... Adivinaste el número\n",
      "Fin del juego\n"
     ]
    }
   ],
   "source": [
    "print(\"========================================\")\n",
    "print(\"Bienvenido al Juego de Adinanza\")\n",
    "print(\"========================================\")\n",
    "\n",
    "numero_secreto = 77\n",
    "total_intentos = 3\n",
    "iteracion = 1\n",
    "\n",
    "while(iteracion <= total_intentos):\n",
    "  print('Intento: {} de {}' .format(iteracion, total_intentos))\n",
    "  entrada = input(\"Digite un número: \")\n",
    "  entrada = int(entrada)\n",
    "  print(\"Digitaste...\", entrada)\n",
    "\n",
    "  acertaste = entrada == numero_secreto #iguales\n",
    "  mayor = entrada > numero_secreto #entrada es MAYOR\n",
    "  menor = entrada > numero_secreto #entrada es MENOR\n",
    "\n",
    "  if(acertaste):\n",
    "    print('Felicitaciones!!... Adivinaste el número')\n",
    "  elif(mayor):\n",
    "    print('Losiento... El número que ingrasaste es mayor que el número secreto')\n",
    "  else:\n",
    "    print('Los siento... El número que ingresaste es menor que el número secreto')\n",
    "\n",
    "  iteracion = iteracion+1\n",
    "\n",
    "print('Fin del juego')"
   ]
  },
  {
   "cell_type": "markdown",
   "metadata": {
    "id": "ijtJyOjnT40G"
   },
   "source": [
    "#UTILIZANDO OTRAS SENTENCIAS PARA LOOPS... FOR I RANGE(n1,n2,n3) Y CONTROLAR QUE EL NUMERO"
   ]
  },
  {
   "cell_type": "code",
   "execution_count": 13,
   "metadata": {
    "colab": {
     "base_uri": "https://localhost:8080/"
    },
    "id": "CFiPakw3UEZt",
    "outputId": "0e8f925b-5c48-4bb1-e959-ee063f6d8ba2"
   },
   "outputs": [
    {
     "name": "stdout",
     "output_type": "stream",
     "text": [
      "========================================\n",
      "Bienvenido al Juego de Adinanza\n",
      "========================================\n",
      "Intento: 1 de 3\n",
      "Digite un número entre el 1 y 100: 50\n",
      "Digitaste... 50\n",
      "Los siento... El número que ingresaste es menor que el número secreto\n",
      "Intento: 2 de 3\n",
      "Digite un número entre el 1 y 100: 80\n",
      "Digitaste... 80\n",
      "Losiento... El número que ingrasaste es mayor que el número secreto\n",
      "Intento: 3 de 3\n",
      "Digite un número entre el 1 y 100: 77\n",
      "Digitaste... 77\n",
      "Felicitaciones!!... Adivinaste el número\n",
      "Fin del juego\n"
     ]
    }
   ],
   "source": [
    "print(\"========================================\")\n",
    "print(\"Bienvenido al Juego de Adinanza\")\n",
    "print(\"========================================\")\n",
    "\n",
    "numero_secreto = 77\n",
    "total_intentos = 3\n",
    "\n",
    "for iteracion in range(1, total_intentos + 1): #se añade el + 1 para que tome los 3 intentos y no solo dos\n",
    "  print('Intento: {} de {}' .format(iteracion, total_intentos))\n",
    "  entrada = input(\"Digite un número entre el 1 y 100: \")\n",
    "  entrada = int(entrada)\n",
    "  print(\"Digitaste...\", entrada)\n",
    "\n",
    "  if(entrada < 1 or entrada > 100):\n",
    "    print('Digite un número entre el 1 y 100: ')\n",
    "    continue #Si cumple continuará con el proceso de iteración dentro del for\n",
    "\n",
    "  acertaste = entrada == numero_secreto #iguales\n",
    "  mayor = entrada > numero_secreto #entrada es MAYOR\n",
    "  menor = entrada > numero_secreto #entrada es MENOR\n",
    "\n",
    "  if(acertaste):\n",
    "    print('Felicitaciones!!... Adivinaste el número')\n",
    "  elif(mayor):\n",
    "    print('Losiento... El número que ingrasaste es mayor que el número secreto')\n",
    "  else:\n",
    "    print('Los siento... El número que ingresaste es menor que el número secreto')\n",
    "\n",
    "  iteracion = iteracion+1\n",
    "\n",
    "print('Fin del juego')"
   ]
  },
  {
   "cell_type": "markdown",
   "metadata": {
    "id": "IiobzBuTWD-u"
   },
   "source": [
    "#GENERAR UN NUMERO ALEARTORIO... RANDOM"
   ]
  },
  {
   "cell_type": "code",
   "execution_count": 15,
   "metadata": {
    "colab": {
     "base_uri": "https://localhost:8080/"
    },
    "id": "VqLw4zOeWIKd",
    "outputId": "378df18b-dc91-41aa-e2e4-f3239161bc00"
   },
   "outputs": [
    {
     "data": {
      "text/plain": [
       "0.23327416756031738"
      ]
     },
     "execution_count": 15,
     "metadata": {},
     "output_type": "execute_result"
    }
   ],
   "source": [
    "#genera números aleartorios\n",
    "import random\n",
    "random.random()"
   ]
  },
  {
   "cell_type": "code",
   "execution_count": 16,
   "metadata": {
    "colab": {
     "base_uri": "https://localhost:8080/"
    },
    "id": "I6F9G2INWLkT",
    "outputId": "8e045e7e-11d7-41d9-aa48-6c05c2d62959"
   },
   "outputs": [
    {
     "data": {
      "text/plain": [
       "0.5992607761438291"
      ]
     },
     "execution_count": 16,
     "metadata": {},
     "output_type": "execute_result"
    }
   ],
   "source": [
    "random.random()"
   ]
  },
  {
   "cell_type": "code",
   "execution_count": 17,
   "metadata": {
    "colab": {
     "base_uri": "https://localhost:8080/"
    },
    "id": "0CPwMIELWrWV",
    "outputId": "19dd376f-a19c-42a5-e133-9d05e53c4851"
   },
   "outputs": [
    {
     "data": {
      "text/plain": [
       "54.55860166021536"
      ]
     },
     "execution_count": 17,
     "metadata": {},
     "output_type": "execute_result"
    }
   ],
   "source": [
    "#generar un número que esté comprendido entre el 1 y 100\n",
    "\n",
    "numero_random = random.random()*100\n",
    "numero_random"
   ]
  },
  {
   "cell_type": "code",
   "execution_count": 18,
   "metadata": {
    "colab": {
     "base_uri": "https://localhost:8080/"
    },
    "id": "J-N6U4zPXAds",
    "outputId": "fd381f4b-2f16-47c8-ae8f-5df7c636914f"
   },
   "outputs": [
    {
     "data": {
      "text/plain": [
       "73"
      ]
     },
     "execution_count": 18,
     "metadata": {},
     "output_type": "execute_result"
    }
   ],
   "source": [
    "#genera un número entre el 0 y 100\n",
    "numero_random = round(random.random()*100) #para generar numero entero, sin decimales\n",
    "numero_random"
   ]
  },
  {
   "cell_type": "markdown",
   "metadata": {
    "id": "ZJenzkUsXol2"
   },
   "source": [
    "#GENERAR UN NUMERO ENTRE 1 Y 100"
   ]
  },
  {
   "cell_type": "code",
   "execution_count": 19,
   "metadata": {
    "colab": {
     "base_uri": "https://localhost:8080/"
    },
    "id": "VnJANC7yXse-",
    "outputId": "bde84777-6578-455f-c80d-5ef44b089cf6"
   },
   "outputs": [
    {
     "data": {
      "text/plain": [
       "51"
      ]
     },
     "execution_count": 19,
     "metadata": {},
     "output_type": "execute_result"
    }
   ],
   "source": [
    "numero_random = random.randrange(1, 101)\n",
    "numero_random"
   ]
  },
  {
   "cell_type": "markdown",
   "metadata": {
    "id": "rboOtBROYQJQ"
   },
   "source": [
    "MEJORANDO EL CÓDIGO, GENERANDO EL NÚMERO SECRETO DE MANERA ALEATORIA, TENEMOS..."
   ]
  },
  {
   "cell_type": "code",
   "execution_count": 21,
   "metadata": {
    "colab": {
     "base_uri": "https://localhost:8080/"
    },
    "id": "PnIzoGLmYboM",
    "outputId": "7201a677-7257-4d98-97e0-b4784192cf24"
   },
   "outputs": [
    {
     "name": "stdout",
     "output_type": "stream",
     "text": [
      "========================================\n",
      "Bienvenido al Juego de Adinanza\n",
      "========================================\n",
      "Número secreto:  36\n",
      "Intento: 1 de 15\n",
      "Digite un número entre el 1 y 100: 35\n",
      "Digitaste... 35\n",
      "Los siento... El número que ingresaste es menor que el número secreto\n",
      "Intento: 2 de 15\n",
      "Digite un número entre el 1 y 100: 38\n",
      "Digitaste... 38\n",
      "Losiento... El número que ingrasaste es mayor que el número secreto\n",
      "Intento: 3 de 15\n",
      "Digite un número entre el 1 y 100: 36\n",
      "Digitaste... 36\n",
      "Felicitaciones!!... Adivinaste el número\n",
      "Fin del juego\n"
     ]
    }
   ],
   "source": [
    "import random\n",
    "\n",
    "print(\"========================================\")\n",
    "print(\"Bienvenido al Juego de Adinanza\")\n",
    "print(\"========================================\")\n",
    "\n",
    "numero_secreto = random.randrange(1, 101)\n",
    "print('Número secreto: ', numero_secreto)\n",
    "total_intentos = 15\n",
    "\n",
    "for iteracion in range(1, total_intentos + 1): #se añade el + 1 para que tome los 3 intentos y no solo dos\n",
    "  print('Intento: {} de {}' .format(iteracion, total_intentos))\n",
    "  entrada = input(\"Digite un número entre el 1 y 100: \")\n",
    "  entrada = int(entrada)\n",
    "  print(\"Digitaste...\", entrada)\n",
    "\n",
    "  if(entrada < 1 or entrada > 100):\n",
    "    print('Digite un número entre el 1 y 100: ')\n",
    "    continue #Si cumple continuará con el proceso de iteración dentro del for\n",
    "\n",
    "  acertaste = entrada == numero_secreto #iguales\n",
    "  mayor = entrada > numero_secreto #entrada es MAYOR\n",
    "  menor = entrada > numero_secreto #entrada es MENOR\n",
    "\n",
    "  if(acertaste):\n",
    "    print('Felicitaciones!!... Adivinaste el número')\n",
    "    break\n",
    "  elif(mayor):\n",
    "    print('Losiento... El número que ingrasaste es mayor que el número secreto')\n",
    "  else:\n",
    "    print('Los siento... El número que ingresaste es menor que el número secreto')\n",
    "\n",
    "  iteracion = iteracion+1\n",
    "\n",
    "print('Fin del juego')\n"
   ]
  },
  {
   "cell_type": "markdown",
   "metadata": {
    "id": "MbH0K3gLasJz"
   },
   "source": [
    "#DEFINIENDO EL NIVEL DE DIFICULTAD"
   ]
  },
  {
   "cell_type": "code",
   "execution_count": 24,
   "metadata": {
    "colab": {
     "base_uri": "https://localhost:8080/"
    },
    "id": "0lw20wnpavyV",
    "outputId": "659a4ffa-58e4-44fe-8a88-6b3cb75f6417"
   },
   "outputs": [
    {
     "name": "stdout",
     "output_type": "stream",
     "text": [
      "========================================\n",
      "Bienvenido al Juego de Adinanza\n",
      "========================================\n",
      "Selecciones nivel de dificultad\n",
      "========================================\n",
      "(1)Fácil (2)Medio (3)Difícil\n",
      "========================================\n",
      "Ingrese nivel de dificultad: 2\n",
      "========================================\n",
      "Número secreto:  11\n",
      "Intento: 1 de 10\n",
      "Digite un número entre el 1 y 100: 50\n",
      "Digitaste... 50\n",
      "Losiento... El número que ingrasaste es mayor que el número secreto\n",
      "Intento: 2 de 10\n",
      "Digite un número entre el 1 y 100: 20\n",
      "Digitaste... 20\n",
      "Losiento... El número que ingrasaste es mayor que el número secreto\n",
      "Intento: 3 de 10\n",
      "Digite un número entre el 1 y 100: 10\n",
      "Digitaste... 10\n",
      "Los siento... El número que ingresaste es menor que el número secreto\n",
      "Intento: 4 de 10\n",
      "Digite un número entre el 1 y 100: 11\n",
      "Digitaste... 11\n",
      "Felicitaciones!!... Adivinaste el número\n",
      "Fin del juego\n"
     ]
    }
   ],
   "source": [
    "import random\n",
    "\n",
    "print(\"========================================\")\n",
    "print(\"Bienvenido al Juego de Adinanza\")\n",
    "print(\"========================================\")\n",
    "\n",
    "numero_secreto = random.randrange(1, 101)\n",
    "\n",
    "print(\"Selecciones nivel de dificultad\")\n",
    "print(\"========================================\")\n",
    "print(\"(1)Fácil (2)Medio (3)Difícil\")\n",
    "print(\"========================================\")\n",
    "nivel = int(input(\"Ingrese nivel de dificultad: \"))\n",
    "print(\"========================================\")\n",
    "\n",
    "print('Número secreto: ', numero_secreto)\n",
    "\n",
    "if(nivel == 1):\n",
    "  total_intentos = 20\n",
    "elif(nivel == 2):\n",
    "  total_intentos = 10\n",
    "else:\n",
    "  total_intentos= 5\n",
    "\n",
    "for iteracion in range(1, total_intentos + 1): #se añade el + 1 para que tome los 3 intentos y no solo dos\n",
    "  print('Intento: {} de {}' .format(iteracion, total_intentos))\n",
    "  entrada = input(\"Digite un número entre el 1 y 100: \")\n",
    "  entrada = int(entrada)\n",
    "  print(\"Digitaste...\", entrada)\n",
    "\n",
    "  if(entrada < 1 or entrada > 100):\n",
    "    print('Digite un número entre el 1 y 100: ')\n",
    "    continue #Si cumple continuará con el proceso de iteración dentro del for\n",
    "\n",
    "  acertaste = entrada == numero_secreto #iguales\n",
    "  mayor = entrada > numero_secreto #entrada es MAYOR\n",
    "  menor = entrada > numero_secreto #entrada es MENOR\n",
    "\n",
    "  if(acertaste):\n",
    "    print('Felicitaciones!!... Adivinaste el número')\n",
    "    break\n",
    "  elif(mayor):\n",
    "    print('Losiento... El número que ingrasaste es mayor que el número secreto')\n",
    "  else:\n",
    "    print('Los siento... El número que ingresaste es menor que el número secreto')\n",
    "\n",
    "  iteracion = iteracion+1\n",
    "\n",
    "print('Fin del juego')"
   ]
  }
 ],
 "metadata": {
  "colab": {
   "provenance": []
  },
  "kernelspec": {
   "display_name": "Python 3",
   "name": "python3"
  },
  "language_info": {
   "name": "python"
  }
 },
 "nbformat": 4,
 "nbformat_minor": 0
}
